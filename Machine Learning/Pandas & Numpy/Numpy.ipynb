{
 "cells": [
  {
   "cell_type": "markdown",
   "id": "5701ef12",
   "metadata": {},
   "source": [
    "# Numpy Array For ML and Data science [Sk Miraj]"
   ]
  },
  {
   "cell_type": "code",
   "execution_count": 1,
   "id": "53355d8f",
   "metadata": {},
   "outputs": [],
   "source": [
    "import numpy as np"
   ]
  },
  {
   "cell_type": "code",
   "execution_count": 2,
   "id": "091c7e09",
   "metadata": {},
   "outputs": [
    {
     "name": "stdout",
     "output_type": "stream",
     "text": [
      "Python Activated\n"
     ]
    }
   ],
   "source": [
    "print('Python Activated')"
   ]
  },
  {
   "cell_type": "markdown",
   "id": "ad51103c",
   "metadata": {},
   "source": [
    "**Numpy array**"
   ]
  },
  {
   "cell_type": "code",
   "execution_count": 3,
   "id": "3c2b0a52",
   "metadata": {},
   "outputs": [],
   "source": [
    "x = np.array([1,2,3,4,5,6,7])\n",
    "y = np.array([11,22,41,51,2,4,9])"
   ]
  },
  {
   "cell_type": "code",
   "execution_count": 4,
   "id": "ba138a4e",
   "metadata": {},
   "outputs": [
    {
     "data": {
      "text/plain": [
       "array([1, 2, 3, 4, 5, 6, 7])"
      ]
     },
     "execution_count": 4,
     "metadata": {},
     "output_type": "execute_result"
    }
   ],
   "source": [
    "x"
   ]
  },
  {
   "cell_type": "code",
   "execution_count": 5,
   "id": "2092e166",
   "metadata": {},
   "outputs": [
    {
     "data": {
      "text/plain": [
       "array([11, 22, 41, 51,  2,  4,  9])"
      ]
     },
     "execution_count": 5,
     "metadata": {},
     "output_type": "execute_result"
    }
   ],
   "source": [
    "y"
   ]
  },
  {
   "cell_type": "code",
   "execution_count": 6,
   "id": "3f58a622",
   "metadata": {
    "scrolled": true
   },
   "outputs": [
    {
     "name": "stdout",
     "output_type": "stream",
     "text": [
      "[12 24 44 55  7 10 16]\n",
      "<class 'numpy.ndarray'>\n",
      "[ 11  44 123 204  10  24  63]\n"
     ]
    }
   ],
   "source": [
    "print(x+y)\n",
    "print(type(x+y))\n",
    "print(x*y)"
   ]
  },
  {
   "cell_type": "code",
   "execution_count": 7,
   "id": "9cbb06e9",
   "metadata": {},
   "outputs": [
    {
     "data": {
      "text/plain": [
       "numpy.ndarray"
      ]
     },
     "execution_count": 7,
     "metadata": {},
     "output_type": "execute_result"
    }
   ],
   "source": [
    "type(x)"
   ]
  },
  {
   "cell_type": "markdown",
   "id": "c049aa9c",
   "metadata": {},
   "source": [
    "**Numpy array Data type**"
   ]
  },
  {
   "cell_type": "code",
   "execution_count": 8,
   "id": "71cc69c9",
   "metadata": {},
   "outputs": [
    {
     "data": {
      "text/plain": [
       "array([ 7, 88,  9,  6], dtype=int8)"
      ]
     },
     "execution_count": 8,
     "metadata": {},
     "output_type": "execute_result"
    }
   ],
   "source": [
    "arr = np.array([7,88,9,6],np.int8)\n",
    "arr"
   ]
  },
  {
   "cell_type": "code",
   "execution_count": 9,
   "id": "c9df27e1",
   "metadata": {},
   "outputs": [
    {
     "data": {
      "text/plain": [
       "7"
      ]
     },
     "execution_count": 9,
     "metadata": {},
     "output_type": "execute_result"
    }
   ],
   "source": [
    "arr[0]"
   ]
  },
  {
   "cell_type": "code",
   "execution_count": 10,
   "id": "e38793c8",
   "metadata": {},
   "outputs": [
    {
     "data": {
      "text/plain": [
       "array([ 7, 88,  9,  6])"
      ]
     },
     "execution_count": 10,
     "metadata": {},
     "output_type": "execute_result"
    }
   ],
   "source": [
    "arr1 = np.array([7,88,9,6],np.int64)\n",
    "arr1"
   ]
  },
  {
   "cell_type": "code",
   "execution_count": 11,
   "id": "03f27009",
   "metadata": {},
   "outputs": [
    {
     "data": {
      "text/plain": [
       "88"
      ]
     },
     "execution_count": 11,
     "metadata": {},
     "output_type": "execute_result"
    }
   ],
   "source": [
    "arr1[1]"
   ]
  },
  {
   "cell_type": "code",
   "execution_count": 12,
   "id": "10005aa7",
   "metadata": {},
   "outputs": [
    {
     "data": {
      "text/plain": [
       "array([ 7.3, 88.7,  9.4,  6.9], dtype=float32)"
      ]
     },
     "execution_count": 12,
     "metadata": {},
     "output_type": "execute_result"
    }
   ],
   "source": [
    "arr2 = np.array([7.3,88.7,9.4,6.9],np.float32)\n",
    "arr2"
   ]
  },
  {
   "cell_type": "code",
   "execution_count": 13,
   "id": "8ef8f5c3",
   "metadata": {},
   "outputs": [
    {
     "data": {
      "text/plain": [
       "7.3"
      ]
     },
     "execution_count": 13,
     "metadata": {},
     "output_type": "execute_result"
    }
   ],
   "source": [
    "arr2[0]"
   ]
  },
  {
   "cell_type": "markdown",
   "id": "ff621ad5",
   "metadata": {},
   "source": [
    "**Numpy array details**"
   ]
  },
  {
   "cell_type": "code",
   "execution_count": 14,
   "id": "a0c3071b",
   "metadata": {},
   "outputs": [],
   "source": [
    "a = np.array([7,88,9,6],np.int8)"
   ]
  },
  {
   "cell_type": "code",
   "execution_count": 15,
   "id": "99566c3d",
   "metadata": {},
   "outputs": [
    {
     "name": "stdout",
     "output_type": "stream",
     "text": [
      "No of nows and coloumn is 1D: \n"
     ]
    },
    {
     "data": {
      "text/plain": [
       "(4,)"
      ]
     },
     "execution_count": 15,
     "metadata": {},
     "output_type": "execute_result"
    }
   ],
   "source": [
    "print('No of nows and coloumn is 1D: ')\n",
    "a.shape"
   ]
  },
  {
   "cell_type": "code",
   "execution_count": 16,
   "id": "915e1004",
   "metadata": {},
   "outputs": [
    {
     "name": "stdout",
     "output_type": "stream",
     "text": [
      "No of nows and coloumn is 2D: \n"
     ]
    },
    {
     "data": {
      "text/plain": [
       "(3, 4)"
      ]
     },
     "execution_count": 16,
     "metadata": {},
     "output_type": "execute_result"
    }
   ],
   "source": [
    "b = np.array([[7,88,9,6],[8,9,7,31],[88,47,51,64]],np.int8)\n",
    "print('No of nows and coloumn is 2D: ')\n",
    "b.shape"
   ]
  },
  {
   "cell_type": "code",
   "execution_count": 17,
   "id": "705fa54f",
   "metadata": {},
   "outputs": [
    {
     "name": "stdout",
     "output_type": "stream",
     "text": [
      "Array data type is : \n",
      "int8\n",
      "\n",
      "Array data type is : \n",
      "int8\n"
     ]
    }
   ],
   "source": [
    "print('Array data type is : ')\n",
    "print(a.dtype)\n",
    "print('\\nArray data type is : ')\n",
    "print(b.dtype)"
   ]
  },
  {
   "cell_type": "code",
   "execution_count": 18,
   "id": "fd2da302",
   "metadata": {},
   "outputs": [
    {
     "name": "stdout",
     "output_type": "stream",
     "text": [
      "Array size is : \n",
      "4\n",
      "\n",
      "Array size is : \n",
      "12\n"
     ]
    }
   ],
   "source": [
    "print('Array size is : ')\n",
    "print(a.size)\n",
    "print('\\nArray size is : ')\n",
    "print(b.size)"
   ]
  },
  {
   "cell_type": "markdown",
   "id": "1af7c179",
   "metadata": {},
   "source": [
    "**Value exchange**"
   ]
  },
  {
   "cell_type": "code",
   "execution_count": 19,
   "id": "4e430a62",
   "metadata": {},
   "outputs": [
    {
     "data": {
      "text/plain": [
       "array([7, 8, 9, 3, 6])"
      ]
     },
     "execution_count": 19,
     "metadata": {},
     "output_type": "execute_result"
    }
   ],
   "source": [
    "arr5 = np.array([7,8,9,3,6])\n",
    "arr5"
   ]
  },
  {
   "cell_type": "code",
   "execution_count": 20,
   "id": "3cf76cec",
   "metadata": {},
   "outputs": [
    {
     "name": "stdout",
     "output_type": "stream",
     "text": [
      "Array 0 index is : \n"
     ]
    },
    {
     "data": {
      "text/plain": [
       "7"
      ]
     },
     "execution_count": 20,
     "metadata": {},
     "output_type": "execute_result"
    }
   ],
   "source": [
    "print('Array 0 index is : ')\n",
    "arr5[0]"
   ]
  },
  {
   "cell_type": "code",
   "execution_count": 21,
   "id": "6ab7c51b",
   "metadata": {},
   "outputs": [
    {
     "name": "stdout",
     "output_type": "stream",
     "text": [
      "Before Exchange value is :\n",
      "\n",
      "[7 8 9 3 6]\n",
      "After Exchange value is :\n",
      "\n",
      "[10  8  9  3  6]\n"
     ]
    }
   ],
   "source": [
    "print('Before Exchange value is :\\n')\n",
    "print(arr5)\n",
    "print('After Exchange value is :\\n')\n",
    "arr5[0]=10\n",
    "print(arr5)"
   ]
  },
  {
   "cell_type": "code",
   "execution_count": 22,
   "id": "11bcb5d0",
   "metadata": {},
   "outputs": [
    {
     "name": "stdout",
     "output_type": "stream",
     "text": [
      "All value exchange between range 0 to 5 is using split :\n",
      "\n",
      "[5 5 5 3 6]\n"
     ]
    }
   ],
   "source": [
    "print('All value exchange between range 0 to 5 is using split :\\n')\n",
    "arr5[0:3]=5\n",
    "print(arr5)"
   ]
  },
  {
   "cell_type": "markdown",
   "id": "679fa265",
   "metadata": {},
   "source": [
    "**Numpy Array creation methods :**\n",
    "\n",
    "1. Conversion from other Python structures (i.e. lists and tuples)\n",
    "\n",
    "2. Intrinsic NumPy array creation functions (e.g. arange, ones, zeros, etc.)\n",
    "\n",
    "3. Replicating, joining, or mutating existing arrays\n",
    "\n",
    "4. Reading arrays from disk, either from standard or custom formats\n",
    "\n",
    "5. Creating arrays from raw bytes through the use of strings or buffers\n",
    "\n",
    "6. Use of special library functions (e.g., random"
   ]
  },
  {
   "cell_type": "code",
   "execution_count": 23,
   "id": "45f151db",
   "metadata": {},
   "outputs": [
    {
     "name": "stdout",
     "output_type": "stream",
     "text": [
      "1. Conversion from other Python structures (i.e. lists and tuples)\n",
      "\n",
      "\n",
      "List array :\n",
      "[12 24 57 84 61 34]\n",
      "\n",
      "Tuple array :\n",
      "[ 1  8  7  9  3 10]\n",
      "\n",
      "Set array :\n",
      "{48, 34, 51, 68, 75}\n"
     ]
    }
   ],
   "source": [
    "print('1. Conversion from other Python structures (i.e. lists and tuples)\\n')\n",
    "xl = [12,24,57,84,61,34]\n",
    "xt = (1,8,7,9,3,10)\n",
    "xs = {34,51,48,75,68}\n",
    "\n",
    "print('\\nList array :')\n",
    "listarray = np.array(xl)\n",
    "print(listarray)\n",
    "\n",
    "print('\\nTuple array :')\n",
    "Tuplearray = np.array(xt)\n",
    "print(Tuplearray)\n",
    "\n",
    "print('\\nSet array :')\n",
    "Setarray = np.array(xs)\n",
    "print(Setarray)"
   ]
  },
  {
   "cell_type": "code",
   "execution_count": 24,
   "id": "111422f1",
   "metadata": {},
   "outputs": [
    {
     "name": "stdout",
     "output_type": "stream",
     "text": [
      "[56  8  7  9  3 10]\n",
      "[91 24 57 84 61 34]\n"
     ]
    }
   ],
   "source": [
    "Tuplearray[0]=56\n",
    "print(Tuplearray)\n",
    "\n",
    "listarray[0]=91\n",
    "print(listarray)"
   ]
  },
  {
   "cell_type": "code",
   "execution_count": 25,
   "id": "096bdb12",
   "metadata": {},
   "outputs": [
    {
     "name": "stdout",
     "output_type": "stream",
     "text": [
      "2. Intrinsic NumPy array creation functions (e.g. arange, ones, zeros, etc.) :\n",
      "\n",
      "Zros of array :\n",
      "\n",
      "[[0. 0. 0. 0.]\n",
      " [0. 0. 0. 0.]\n",
      " [0. 0. 0. 0.]]\n",
      "\n",
      "Ones of array :\n",
      "\n",
      "[[1. 1. 1. 1.]\n",
      " [1. 1. 1. 1.]\n",
      " [1. 1. 1. 1.]]\n",
      "\n",
      "Range of array :\n",
      "\n",
      "[0 1 2 3 4 5 6 7 8 9]\n",
      "\n",
      "Linier space of array :\n",
      "\n",
      "[ 1.          3.04166667  5.08333333  7.125       9.16666667 11.20833333\n",
      " 13.25       15.29166667 17.33333333 19.375      21.41666667 23.45833333\n",
      " 25.5        27.54166667 29.58333333 31.625      33.66666667 35.70833333\n",
      " 37.75       39.79166667 41.83333333 43.875      45.91666667 47.95833333\n",
      " 50.        ]\n",
      "\n",
      "Random Empty of array :\n",
      "\n",
      "[[0. 0. 0. 0. 0. 0.]\n",
      " [0. 0. 0. 0. 0. 0.]\n",
      " [0. 0. 0. 0. 0. 0.]\n",
      " [0. 0. 0. 0. 0. 0.]]\n",
      "\n",
      "Random Empty_like of array :\n",
      "\n",
      "[ 1.          3.04166667  5.08333333  7.125       9.16666667 11.20833333\n",
      " 13.25       15.29166667 17.33333333 19.375      21.41666667 23.45833333\n",
      " 25.5        27.54166667 29.58333333 31.625      33.66666667 35.70833333\n",
      " 37.75       39.79166667 41.83333333 43.875      45.91666667 47.95833333\n",
      " 50.        ]\n",
      "\n",
      "Identity of array :\n",
      "\n",
      "[[1. 0. 0. 0. 0. 0. 0. 0. 0. 0.]\n",
      " [0. 1. 0. 0. 0. 0. 0. 0. 0. 0.]\n",
      " [0. 0. 1. 0. 0. 0. 0. 0. 0. 0.]\n",
      " [0. 0. 0. 1. 0. 0. 0. 0. 0. 0.]\n",
      " [0. 0. 0. 0. 1. 0. 0. 0. 0. 0.]\n",
      " [0. 0. 0. 0. 0. 1. 0. 0. 0. 0.]\n",
      " [0. 0. 0. 0. 0. 0. 1. 0. 0. 0.]\n",
      " [0. 0. 0. 0. 0. 0. 0. 1. 0. 0.]\n",
      " [0. 0. 0. 0. 0. 0. 0. 0. 1. 0.]\n",
      " [0. 0. 0. 0. 0. 0. 0. 0. 0. 1.]]\n",
      "\n",
      " Row X Coloumn of Identity is :  (10, 10) \n",
      "\n",
      "\n",
      "Eye Empty of array :\n",
      "\n",
      "[[1. 0. 0. 0. 0. 0. 0. 0. 0. 0.]\n",
      " [0. 1. 0. 0. 0. 0. 0. 0. 0. 0.]\n",
      " [0. 0. 1. 0. 0. 0. 0. 0. 0. 0.]\n",
      " [0. 0. 0. 1. 0. 0. 0. 0. 0. 0.]\n",
      " [0. 0. 0. 0. 1. 0. 0. 0. 0. 0.]]\n"
     ]
    }
   ],
   "source": [
    "print ('2. Intrinsic NumPy array creation functions (e.g. arange, ones, zeros, etc.) :\\n')\n",
    "\n",
    "print('Zros of array :\\n')\n",
    "zeros = np.zeros((3,4))\n",
    "print(zeros)\n",
    "\n",
    "print('\\nOnes of array :\\n')\n",
    "ones = np.ones((3,4))\n",
    "print(ones)\n",
    "\n",
    "print('\\nRange of array :\\n')\n",
    "rangearr = np.arange(10)\n",
    "print(rangearr)\n",
    "\n",
    "print('\\nLinier space of array :\\n')\n",
    "linier = np.linspace(1,50,25)\n",
    "print(linier)\n",
    "\n",
    "print('\\nRandom Empty of array :\\n')\n",
    "empty = np.empty((4,6))\n",
    "print(empty)\n",
    "\n",
    "print('\\nRandom Empty_like of array :\\n')\n",
    "empty_like = np.empty_like(linier) # or pass row and coloumn its copy initality of any matrix\n",
    "print(empty_like)\n",
    "\n",
    "print('\\nIdentity of array :\\n')\n",
    "Identity = np.identity(10)\n",
    "print(Identity)\n",
    "print('\\n Row X Coloumn of Identity is : ',Identity.shape,'\\n')\n",
    "\n",
    "\n",
    "print('\\nEye Empty of array :\\n')\n",
    "eye = np.eye(5,10)\n",
    "print(eye)"
   ]
  },
  {
   "cell_type": "markdown",
   "id": "285a6ae0",
   "metadata": {},
   "source": [
    "**Importent functions of Numpy Array :-**"
   ]
  },
  {
   "cell_type": "code",
   "execution_count": 26,
   "id": "11af6815",
   "metadata": {},
   "outputs": [
    {
     "name": "stdout",
     "output_type": "stream",
     "text": [
      "[ 0  1  2  3  4  5  6  7  8  9 10 11 12 13 14 15 16 17 18 19 20 21 22 23\n",
      " 24 25 26 27 28 29 30 31 32 33 34 35 36 37 38 39 40 41 42 43 44 45 46 47\n",
      " 48 49 50 51 52 53 54 55 56 57 58 59 60 61 62 63 64 65 66 67 68 69 70 71\n",
      " 72 73 74 75 76 77 78 79 80 81 82 83 84 85 86 87 88 89 90 91 92 93 94 95\n",
      " 96 97 98 99]\n",
      "\n",
      "Divide array into equal size blocks :\n",
      "\n"
     ]
    },
    {
     "data": {
      "text/plain": [
       "array([[ 0,  1,  2,  3,  4,  5,  6,  7,  8,  9, 10, 11, 12, 13, 14, 15,\n",
       "        16, 17, 18, 19, 20, 21, 22, 23, 24],\n",
       "       [25, 26, 27, 28, 29, 30, 31, 32, 33, 34, 35, 36, 37, 38, 39, 40,\n",
       "        41, 42, 43, 44, 45, 46, 47, 48, 49],\n",
       "       [50, 51, 52, 53, 54, 55, 56, 57, 58, 59, 60, 61, 62, 63, 64, 65,\n",
       "        66, 67, 68, 69, 70, 71, 72, 73, 74],\n",
       "       [75, 76, 77, 78, 79, 80, 81, 82, 83, 84, 85, 86, 87, 88, 89, 90,\n",
       "        91, 92, 93, 94, 95, 96, 97, 98, 99]])"
      ]
     },
     "execution_count": 26,
     "metadata": {},
     "output_type": "execute_result"
    }
   ],
   "source": [
    "ar = np.arange(100)\n",
    "print(ar)\n",
    "\n",
    "print('\\nDivide array into equal size blocks :\\n')\n",
    "ar.reshape(4,25)"
   ]
  },
  {
   "cell_type": "code",
   "execution_count": 27,
   "id": "e4e91bcf",
   "metadata": {},
   "outputs": [
    {
     "name": "stdout",
     "output_type": "stream",
     "text": [
      "\n",
      "To combine array into a single 1D array :\n",
      "\n"
     ]
    },
    {
     "data": {
      "text/plain": [
       "array([ 0,  1,  2,  3,  4,  5,  6,  7,  8,  9, 10, 11, 12, 13, 14, 15, 16,\n",
       "       17, 18, 19, 20, 21, 22, 23, 24, 25, 26, 27, 28, 29, 30, 31, 32, 33,\n",
       "       34, 35, 36, 37, 38, 39, 40, 41, 42, 43, 44, 45, 46, 47, 48, 49, 50,\n",
       "       51, 52, 53, 54, 55, 56, 57, 58, 59, 60, 61, 62, 63, 64, 65, 66, 67,\n",
       "       68, 69, 70, 71, 72, 73, 74, 75, 76, 77, 78, 79, 80, 81, 82, 83, 84,\n",
       "       85, 86, 87, 88, 89, 90, 91, 92, 93, 94, 95, 96, 97, 98, 99])"
      ]
     },
     "execution_count": 27,
     "metadata": {},
     "output_type": "execute_result"
    }
   ],
   "source": [
    "print('\\nTo combine array into a single 1D array :\\n')\n",
    "ar.ravel()"
   ]
  },
  {
   "cell_type": "markdown",
   "id": "c4916f61",
   "metadata": {},
   "source": [
    "**Numpy array methods and attributes :-**"
   ]
  },
  {
   "cell_type": "code",
   "execution_count": 28,
   "id": "b4077b5f",
   "metadata": {},
   "outputs": [
    {
     "name": "stdout",
     "output_type": "stream",
     "text": [
      "[[1, 2, 3], [4, 5, 6], [7, 8, 9]]\n",
      "\n",
      "Sum of y axis (coloumn) :\n",
      "\n",
      "[12 15 18]\n",
      "\n",
      "Sum of x axis (row) :\n",
      "\n",
      "[ 6 15 24]\n",
      "\n",
      "Transpose of NDarray is :\n",
      "\n",
      "[[1 4 7]\n",
      " [2 5 8]\n",
      " [3 6 9]]\n",
      "\n",
      "NDarray Traverse is :\n",
      "\n",
      "[1 2 3]\n",
      "[4 5 6]\n",
      "[7 8 9]\n",
      "\n",
      "NDarray itaration is :\n",
      "\n",
      "1\n",
      "2\n",
      "3\n",
      "4\n",
      "5\n",
      "6\n",
      "7\n",
      "8\n",
      "9\n",
      "\n",
      "Diamension of NDarray is :\n",
      "\n",
      "2\n",
      "\n",
      "NDarray size or total element is :\n",
      "\n",
      "9\n",
      "\n",
      "NDarray memory size is :\n",
      "\n",
      "72 byte\n",
      "\n",
      "MAx aurgument in X axis :\n",
      "\n",
      "[2 2 2]\n",
      "\n",
      "MAx aurgument in Y axis :\n",
      "\n",
      "[2 2 2]\n",
      "\n",
      "Min aurgument in X axis :\n",
      "\n",
      "[0 0 0]\n",
      "\n",
      "Min aurgument in Y axis :\n",
      "\n",
      "[0 0 0]\n",
      "\n",
      "Argument sort of NDarray :\n",
      "\n",
      "[[0 1 2]\n",
      " [0 1 2]\n",
      " [0 1 2]]\n",
      "\n",
      "Mean of NDarray is :\n",
      "\n",
      "5.0\n",
      "\n",
      "Median of NDarray :\n",
      "\n",
      "5.0\n",
      "\n",
      "Sum of NDarray : \n",
      "\n",
      "[[ 2  4  6]\n",
      " [ 8 10 12]\n",
      " [14 16 18]]\n",
      "\n",
      "Multiplay of NDarray : \n",
      "\n",
      "[[ 1  4  9]\n",
      " [16 25 36]\n",
      " [49 64 81]]\n",
      "\n",
      "Squreroot of NDarray : \n",
      "\n",
      "[[1.         1.41421356 1.73205081]\n",
      " [2.         2.23606798 2.44948974]\n",
      " [2.64575131 2.82842712 3.        ]]\n",
      "\n",
      "Cuberoot of NDarray : \n",
      "\n",
      "[[1.         1.25992105 1.44224957]\n",
      " [1.58740105 1.70997595 1.81712059]\n",
      " [1.91293118 2.         2.08008382]]\n",
      "\n",
      "Sum of all elements  : \n",
      "\n",
      "45\n",
      "\n",
      "Max of all elements  : \n",
      "\n",
      "9\n",
      "\n",
      "Min of all elements  : \n",
      "\n",
      "1\n",
      "\n",
      "NDarray condition ary>5 : \n",
      "\n",
      "[[1 2 3]\n",
      " [4 5 6]\n",
      " [7 1 0]]\n",
      "(array([1, 2]), array([2, 0]))\n",
      "\n",
      "Diagonal  of NDarray : \n",
      "\n",
      "[1 5 9]\n",
      "\n",
      "Numpy array to python list :\n",
      "\n",
      "<class 'numpy.ndarray'>\n",
      "[[1 2 3]\n",
      " [4 5 6]\n",
      " [7 8 9]]\n",
      "\n",
      " <class 'list'>\n",
      "[[1, 2, 3], [4, 5, 6], [7, 8, 9]]\n"
     ]
    }
   ],
   "source": [
    "x = [[1,2,3],[4,5,6],[7,8,9]]\n",
    "a = np.array(x)\n",
    "b = np.array(x)\n",
    "print(x)\n",
    "\n",
    "print('\\nSum of y axis (coloumn) :\\n')\n",
    "print(a.sum(axis=0))\n",
    "\n",
    "print('\\nSum of x axis (row) :\\n')\n",
    "print(a.sum(axis=1))\n",
    "\n",
    "print('\\nTranspose of NDarray is :\\n')\n",
    "print(a.T)\n",
    "\n",
    "print('\\nNDarray Traverse is :\\n')\n",
    "for i in a:\n",
    "    print(i)\n",
    "    \n",
    "print('\\nNDarray itaration is :\\n')\n",
    "for i in a.flat:\n",
    "    print(i)\n",
    "    \n",
    "print('\\nDiamension of NDarray is :\\n')\n",
    "print(a.ndim)\n",
    "\n",
    "print('\\nNDarray size or total element is :\\n')\n",
    "print(a.size)\n",
    "\n",
    "print('\\nNDarray memory size is :\\n')\n",
    "print(a.nbytes,'byte')\n",
    "\n",
    "print('\\nMAx aurgument in X axis :\\n')\n",
    "print(a.argmax(axis=1))\n",
    "\n",
    "print('\\nMAx aurgument in Y axis :\\n')\n",
    "print(a.argmax(axis=0))\n",
    "\n",
    "print('\\nMin aurgument in X axis :\\n')\n",
    "print(a.argmin(axis=1))\n",
    "\n",
    "print('\\nMin aurgument in Y axis :\\n')\n",
    "print(a.argmin(axis=0))\n",
    "\n",
    "print('\\nArgument sort of NDarray :\\n')\n",
    "print(a.argsort())\n",
    "\n",
    "print('\\nMean of NDarray is :\\n')\n",
    "print(a.mean())\n",
    "\n",
    "print('\\nMedian of NDarray :\\n')\n",
    "print(np.median(a))\n",
    "\n",
    "print('\\nSum of NDarray : \\n')\n",
    "print(a+b)\n",
    "\n",
    "print('\\nMultiplay of NDarray : \\n')\n",
    "print(a*b)\n",
    "\n",
    "print('\\nSqureroot of NDarray : \\n')\n",
    "print(np.sqrt(a))\n",
    "\n",
    "print('\\nCuberoot of NDarray : \\n')\n",
    "print(np.cbrt(a))\n",
    "\n",
    "print('\\nSum of all elements  : \\n')\n",
    "print(a.sum())\n",
    "\n",
    "print('\\nMax of all elements  : \\n')\n",
    "print(a.max())\n",
    "\n",
    "print('\\nMin of all elements  : \\n')\n",
    "print(a.min())\n",
    "\n",
    "print('\\nNDarray condition ary>5 : \\n')\n",
    "ary = np.array([[1,2,3],[4,5,6],[7,1,0]])\n",
    "print(ary)\n",
    "print(np.where(ary>5))\n",
    "\n",
    "\n",
    "print('\\nDiagonal  of NDarray : \\n')\n",
    "print(a.diagonal())\n",
    "\n",
    "print('\\nNumpy array to python list :\\n')\n",
    "print(type(a))\n",
    "print(a)\n",
    "x = a.tolist()\n",
    "print('\\n',type(x))\n",
    "print(x)"
   ]
  },
  {
   "cell_type": "code",
   "execution_count": 29,
   "id": "bc484088",
   "metadata": {},
   "outputs": [
    {
     "name": "stdout",
     "output_type": "stream",
     "text": [
      "[13 45  6 78  0 74]\n",
      "Argmax X  Argmin X  Argsort [index] \t Mean \n",
      "  3  \t 4  \t [4 2 0 1 5 3]  \t 36.0\n"
     ]
    }
   ],
   "source": [
    "x = [13,45,6,78,0,74]\n",
    "arr=np.array(x)\n",
    "print(arr)\n",
    "\n",
    "print('Argmax X',' Argmin X',' Argsort [index]','\\t Mean ')\n",
    "print(' ',arr.argmax(axis=0),' \\t',arr.argmin(axis=0),' \\t',arr.argsort(axis=0),' \\t',arr.mean())"
   ]
  },
  {
   "cell_type": "code",
   "execution_count": 30,
   "id": "5d857cf6",
   "metadata": {},
   "outputs": [
    {
     "name": "stdout",
     "output_type": "stream",
     "text": [
      "Dotproduct is :  32\n"
     ]
    }
   ],
   "source": [
    "a = np.array([1,2,3])\n",
    "b = np.array([4,5,6])\n",
    "print('Dotproduct is : ',np.dot(a,b))"
   ]
  },
  {
   "cell_type": "code",
   "execution_count": 31,
   "id": "4f938d81",
   "metadata": {},
   "outputs": [
    {
     "name": "stdout",
     "output_type": "stream",
     "text": [
      "Absolute value is : [1 3 5 7]\n"
     ]
    }
   ],
   "source": [
    "x = np.array([1,-3,5,-7])\n",
    "print('Absolute value is :',np.absolute(x))"
   ]
  },
  {
   "cell_type": "code",
   "execution_count": 32,
   "id": "4baa96e2",
   "metadata": {},
   "outputs": [
    {
     "name": "stdout",
     "output_type": "stream",
     "text": [
      "Angle of NDarray complex number [Radians]:  [0.         1.57079633 0.78539816]\n"
     ]
    }
   ],
   "source": [
    "y = np.array([2.0,1.0j,1+1j,])\n",
    "print('Angle of NDarray complex number [Radians]: ',np.angle(y))"
   ]
  },
  {
   "cell_type": "code",
   "execution_count": 33,
   "id": "1d8b57d2",
   "metadata": {},
   "outputs": [
    {
     "name": "stdout",
     "output_type": "stream",
     "text": [
      "Non zero in NDarry :\n",
      "[[0. 0. 0.]\n",
      " [0. 1. 0.]\n",
      " [0. 0. 0.]]\n",
      "1\n"
     ]
    }
   ],
   "source": [
    "print('Non zero in NDarry :')\n",
    "zero = np.zeros((3,3))\n",
    "zero[1,1]=1\n",
    "print(zero)\n",
    "print(np.count_nonzero(zero))"
   ]
  },
  {
   "cell_type": "code",
   "execution_count": 34,
   "id": "cd7d5a63",
   "metadata": {},
   "outputs": [
    {
     "name": "stdout",
     "output_type": "stream",
     "text": [
      "Non zero index is :\n",
      "(array([1]), array([1]))\n"
     ]
    }
   ],
   "source": [
    "print('Non zero index is :')\n",
    "print(np.nonzero(zero))"
   ]
  },
  {
   "cell_type": "markdown",
   "id": "ecbfbd96",
   "metadata": {},
   "source": [
    "**Numpy with Random :-**"
   ]
  },
  {
   "cell_type": "code",
   "execution_count": 37,
   "id": "45c04b5d",
   "metadata": {},
   "outputs": [
    {
     "name": "stdout",
     "output_type": "stream",
     "text": [
      "Random valuus between 0 to 1 NDarray 1D :\n",
      "[0.46079734 0.20053821 0.28038252] <class 'numpy.ndarray'>\n",
      "\n",
      "Random valuus between 0 to 1 NDarray 2D :\n",
      "[[0.39532625 0.47177508 0.05554833]\n",
      " [0.84264942 0.20158213 0.39933174]\n",
      " [0.2985259  0.9478043  0.15965911]] <class 'numpy.ndarray'>\n",
      "\n",
      "Random valuus randint NDarray :\n",
      "[9 3 8 3 9] <class 'numpy.ndarray'>\n",
      "\n",
      "Random valuus between n to m NDarray :\n",
      "[[0.99686481 0.61719675 0.25213915]\n",
      " [0.59520155 0.96502253 0.26808828]\n",
      " [0.67635637 0.16238437 0.63988968]] <class 'numpy.ndarray'>\n",
      "\n",
      "Random valuus between choice NDarray :\n",
      "[ 4 11  8  6  9 10 12  3  4 12  4  9  9 10  5 10 10 12  9  4  1  4 12  3\n",
      "  1  3 10  4  2 11] <class 'numpy.ndarray'>\n"
     ]
    }
   ],
   "source": [
    "print('Random valuus between 0 to 1 NDarray 1D :')\n",
    "arr = np.random.rand(3)\n",
    "print(arr,type(arr))\n",
    "\n",
    "print('\\nRandom valuus between 0 to 1 NDarray 2D :')\n",
    "arr = np.random.rand(3,3)\n",
    "print(arr,type(arr))\n",
    "\n",
    "print('\\nRandom valuus randint NDarray :')\n",
    "arr = np.random.randint(0,10,5)\n",
    "print(arr,type(arr))\n",
    "\n",
    "print('\\nRandom valuus between n to m NDarray :')\n",
    "arr = np.random.sample(size=(3,3))\n",
    "print(arr,type(arr))\n",
    "\n",
    "print('\\nRandom valuus between choice NDarray :')\n",
    "arr = np.random.choice(13, 30)\n",
    "print(arr,type(arr))"
   ]
  }
 ],
 "metadata": {
  "kernelspec": {
   "display_name": "Python 3 (ipykernel)",
   "language": "python",
   "name": "python3"
  },
  "language_info": {
   "codemirror_mode": {
    "name": "ipython",
    "version": 3
   },
   "file_extension": ".py",
   "mimetype": "text/x-python",
   "name": "python",
   "nbconvert_exporter": "python",
   "pygments_lexer": "ipython3",
   "version": "3.11.3"
  }
 },
 "nbformat": 4,
 "nbformat_minor": 5
}
