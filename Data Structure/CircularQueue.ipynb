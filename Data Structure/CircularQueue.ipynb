{
 "cells": [
  {
   "cell_type": "markdown",
   "metadata": {},
   "source": [
    "Question 1: implement the CircularQueue class and write a function reverse_and_enqueue(queue) that takes a CircularQueue object as input, reverses the elements in the queue, and then enqueues them back into the same queue. ?\n"
   ]
  },
  {
   "cell_type": "markdown",
   "metadata": {},
   "source": [
    "First we declare a class that contain CircularQueue class that impliments circuler queue methods.\n"
   ]
  },
  {
   "cell_type": "code",
   "execution_count": 1,
   "metadata": {},
   "outputs": [
    {
     "name": "stdout",
     "output_type": "stream",
     "text": [
      "1\n",
      "5\n",
      "2 3 4 5 6\n",
      "6 5 4 3 2\n"
     ]
    }
   ],
   "source": [
    "class CircularQueue:\n",
    "    # parameterized constructor\n",
    "    def __init__(self, capacity):\n",
    "        self.capacity = capacity\n",
    "        self.queue = [None] * capacity\n",
    "        self.front = self.rear = -1\n",
    "\n",
    "    def enqueue(self, item):\n",
    "        if self.is_full():\n",
    "            print(\"Queue is full. Enqueue operation not allowed.\")\n",
    "            return False\n",
    "        elif self.is_empty():\n",
    "            self.front = self.rear = 0\n",
    "        else:\n",
    "            self.rear = (self.rear + 1) % self.capacity\n",
    "\n",
    "        self.queue[self.rear] = item\n",
    "        return True\n",
    "\n",
    "    def dequeue(self):\n",
    "        if self.is_empty():\n",
    "            print(\"Queue is empty. Dequeue operation not allowed.\")\n",
    "            return None\n",
    "        elif self.front == self.rear:\n",
    "            item = self.queue[self.front]\n",
    "            self.front = self.rear = -1\n",
    "        else:\n",
    "            item = self.queue[self.front]\n",
    "            self.front = (self.front + 1) % self.capacity\n",
    "        return item\n",
    "\n",
    "    def is_empty(self):\n",
    "        return self.front == -1\n",
    "\n",
    "    def is_full(self):\n",
    "        return (self.rear + 1) % self.capacity == self.front\n",
    "\n",
    "    def size(self):\n",
    "        if self.is_empty():\n",
    "            return 0\n",
    "        elif self.front <= self.rear:\n",
    "            return self.rear - self.front + 1\n",
    "        else:\n",
    "            return self.capacity - (self.front - self.rear - 1)\n",
    "        \n",
    "    def display(self):\n",
    "        if self.is_empty():\n",
    "            print(\"Queue is empty.\")\n",
    "        else:\n",
    "            i = self.front\n",
    "            while i != self.rear:\n",
    "                print(self.queue[i], end=\" \")\n",
    "                i = (i + 1) % self.capacity\n",
    "            print(self.queue[self.rear])\n",
    "\n",
    "\n",
    "def reverse_and_enqueue(queue):\n",
    "    stack = []\n",
    "\n",
    "    while not queue.is_empty():\n",
    "        item = queue.dequeue()\n",
    "        stack.append(item)\n",
    "\n",
    "    while stack:\n",
    "        item = stack.pop()\n",
    "        queue.enqueue(item)\n",
    "\n",
    "cq = CircularQueue(5)#calling constructor\n",
    "cq.enqueue(1)\n",
    "cq.enqueue(2)\n",
    "cq.enqueue(3)\n",
    "print(cq.dequeue()) #display ing value of deque \n",
    "cq.enqueue(4)\n",
    "cq.enqueue(5)\n",
    "cq.enqueue(6)  # This will print a message indicating that the queue is full\n",
    "print(cq.size()) \n",
    "\n",
    "cq.display()\n",
    "reverse_and_enqueue(cq) #Reverses the elements in the circular queue using a stack.\n",
    "cq.display()\n"
   ]
  },
  {
   "cell_type": "markdown",
   "metadata": {},
   "source": [
    "This code defines a class CircularQueue that implements a circular queue data structure. A circular queue is a variation of a regular queue in which the end of the queue is connected to the beginning, forming a circular structure.\n",
    "\n",
    "2. Constructor __init__(self, capacity):\n",
    "   This is the constructor method that initializes a CircularQueue object with the specified capacity. It sets up the initial state of the queue by creating an internal list called queue, initializing front and rear pointers to -1 (indicating an empty queue)\n",
    "\n",
    "3. Method enqueue(self, item):\n",
    "   Adds an item to the circular queue.\n",
    "   Checks if the queue is full and if the queue is empty.\n",
    "   If the queue is empty, it sets both front and rear to 0.\n",
    "   If the queue is not empty, it increments rear in a circular manner (using modulo operator).\n",
    "   Finally, it adds the item to the queue and returns True.\n",
    "\n",
    "4. Method dequeue(self) :\n",
    "   this method Removes and returns an item from the front of the circular queue.\n",
    "   Checks if the queue is empty and handles various cases.If the queue has only one item, it resets both front and rear.\n",
    "   Otherwise, it increments front in a circular manner.Returns the dequeued item.\n",
    "\n",
    "5. Method is_empty(self) :\n",
    "   Checks if the circular queue is empty by looking at the front index.\n",
    "\n",
    "6. Method is_full(self) :\n",
    "   Checks if the circular queue is full by checking if the next position after rear is equal to front.\n",
    "\n",
    "7. Method size(self) :\n",
    "   Returns the number of elements in the circular queue.\n",
    "   Handles different scenarios based on whether the queue wraps around or not.\n",
    "\n",
    "8. Method display(self) :\n",
    "   Displays the elements of the circular queue from front to rear.\n",
    "\n",
    "9. Function reverse_and_enqueue(queue) :\n",
    "   Reverses the elements in the circular queue using a stack.\n",
    "   Dequeues elements from the queue and pushes them onto the stack.\n",
    "   Pops elements from the stack and enqueues them back into the queue."
   ]
  },
  {
   "cell_type": "markdown",
   "metadata": {},
   "source": [
    "2. You can instruct the candidate to download the CIFAR-10 dataset using the tensorflow library, which provides an inbuilt function to load the dataset ?"
   ]
  },
  {
   "cell_type": "code",
   "execution_count": 2,
   "metadata": {},
   "outputs": [],
   "source": [
    "import pandas as pd\n",
    "import tensorflow as tf\n",
    "import os\n",
    "#(x_train, y_train), (x_test, y_test) = tf.keras.datasets.cifar10.load_data()\n",
    "(x_train, y_train), (_, _) = tf.keras.datasets.cifar10.load_data()\n",
    "\n"
   ]
  },
  {
   "cell_type": "markdown",
   "metadata": {},
   "source": [
    "This code snippet is an example of how to use TensorFlow to load the CIFAR-10 dataset, a popular dataset commonly used for image classification tasks. The dataset consists of 60,000 32x32 color images in 10 different classes, with 6,000 images per class.\n",
    "first we import Tenserflow then we use this following code snippet"
   ]
  },
  {
   "cell_type": "code",
   "execution_count": 3,
   "metadata": {},
   "outputs": [],
   "source": [
    "data = pd.DataFrame({\n",
    "    'image': x_train.tolist(),\n",
    "    'class': y_train.flatten()\n",
    "})"
   ]
  },
  {
   "cell_type": "markdown",
   "metadata": {},
   "source": [
    "This code creates a Pandas DataFrame named 'data' with two columns: 'image' and 'class', where 'image' contains the image data converted to a list using .tolist(), and 'class' contains the class labels flattened using .flatten()"
   ]
  },
  {
   "cell_type": "code",
   "execution_count": 4,
   "metadata": {},
   "outputs": [
    {
     "name": "stdout",
     "output_type": "stream",
     "text": [
      "image    0\n",
      "class    0\n",
      "dtype: int64\n"
     ]
    }
   ],
   "source": [
    "missing_values = data.isnull().sum()\n",
    "print(missing_values)"
   ]
  },
  {
   "cell_type": "markdown",
   "metadata": {},
   "source": [
    "Other datasets that might have missing values, you can follow the approach outlined earlier for handling them. However, in the case of CIFAR-10, you can skip the missing value handling step."
   ]
  },
  {
   "cell_type": "code",
   "execution_count": 5,
   "metadata": {},
   "outputs": [
    {
     "name": "stdout",
     "output_type": "stream",
     "text": [
      "class\n",
      "0    5000\n",
      "1    5000\n",
      "2    5000\n",
      "3    5000\n",
      "4    5000\n",
      "5    5000\n",
      "6    5000\n",
      "7    5000\n",
      "8    5000\n",
      "9    5000\n",
      "Name: count, dtype: int64\n"
     ]
    },
    {
     "data": {
      "image/png": "[encoded data removed]",
      "text/plain": [
       "<Figure size 640x480 with 1 Axes>"
      ]
     },
     "metadata": {},
     "output_type": "display_data"
    }
   ],
   "source": [
    "import matplotlib.pyplot as plt\n",
    "\n",
    "class_counts = data['class'].value_counts().sort_index()\n",
    "print(class_counts)\n",
    "plt.bar(class_counts.index, class_counts.values) # type: ignore\n",
    "plt.xlabel('Class')\n",
    "plt.ylabel('Number of Images')\n",
    "plt.title('Distribution of Images across Classes')\n",
    "plt.show()\n"
   ]
  },
  {
   "cell_type": "markdown",
   "metadata": {},
   "source": [
    "This code calculates the counts of each class using the value_counts() function, sorts the counts by index, and then plots a bar chart using Matplotlib"
   ]
  }
 ],
 "metadata": {
  "kernelspec": {
   "display_name": "Python 3",
   "language": "python",
   "name": "python3"
  },
  "language_info": {
   "codemirror_mode": {
    "name": "ipython",
    "version": 3
   },
   "file_extension": ".py",
   "mimetype": "text/x-python",
   "name": "python",
   "nbconvert_exporter": "python",
   "pygments_lexer": "ipython3",
   "version": "3.11.3"
  },
  "orig_nbformat": 4
 },
 "nbformat": 4,
 "nbformat_minor": 2
}
